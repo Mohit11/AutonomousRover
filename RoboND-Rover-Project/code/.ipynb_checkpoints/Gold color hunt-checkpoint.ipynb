{
 "cells": [
  {
   "cell_type": "code",
   "execution_count": 4,
   "metadata": {},
   "outputs": [
    {
     "ename": "IndexError",
     "evalue": "index 1 is out of bounds for axis 0 with size 1",
     "output_type": "error",
     "traceback": [
      "\u001b[0;31m---------------------------------------------------------------------------\u001b[0m",
      "\u001b[0;31mIndexError\u001b[0m                                Traceback (most recent call last)",
      "\u001b[0;32m<ipython-input-4-3fa2086d74f0>\u001b[0m in \u001b[0;36m<module>\u001b[0;34m()\u001b[0m\n\u001b[1;32m     17\u001b[0m \u001b[0mhsv_gold\u001b[0m \u001b[0;34m=\u001b[0m \u001b[0mcv2\u001b[0m\u001b[0;34m.\u001b[0m\u001b[0mcvtColor\u001b[0m\u001b[0;34m(\u001b[0m\u001b[0mgold\u001b[0m\u001b[0;34m,\u001b[0m\u001b[0mcv2\u001b[0m\u001b[0;34m.\u001b[0m\u001b[0mCOLOR_BGR2HSV\u001b[0m\u001b[0;34m)\u001b[0m\u001b[0;34m\u001b[0m\u001b[0m\n\u001b[1;32m     18\u001b[0m \u001b[0;34m\u001b[0m\u001b[0m\n\u001b[0;32m---> 19\u001b[0;31m \u001b[0mhue\u001b[0m \u001b[0;34m=\u001b[0m \u001b[0mhsv_gold\u001b[0m\u001b[0;34m[\u001b[0m\u001b[0;36m1\u001b[0m\u001b[0;34m]\u001b[0m\u001b[0;34m[\u001b[0m\u001b[0;36m1\u001b[0m\u001b[0;34m]\u001b[0m\u001b[0;34m[\u001b[0m\u001b[0;36m1\u001b[0m\u001b[0;34m]\u001b[0m\u001b[0;34m\u001b[0m\u001b[0m\n\u001b[0m\u001b[1;32m     20\u001b[0m \u001b[0;34m\u001b[0m\u001b[0m\n\u001b[1;32m     21\u001b[0m \u001b[0mhsv\u001b[0m \u001b[0;34m=\u001b[0m \u001b[0mcv2\u001b[0m\u001b[0;34m.\u001b[0m\u001b[0mcvtColor\u001b[0m\u001b[0;34m(\u001b[0m\u001b[0mrock_img\u001b[0m\u001b[0;34m,\u001b[0m \u001b[0mcv2\u001b[0m\u001b[0;34m.\u001b[0m\u001b[0mCOLOR_BGR2HSV\u001b[0m\u001b[0;34m)\u001b[0m\u001b[0;34m\u001b[0m\u001b[0m\n",
      "\u001b[0;31mIndexError\u001b[0m: index 1 is out of bounds for axis 0 with size 1"
     ]
    }
   ],
   "source": [
    "%matplotlib inline\n",
    "# %matplotlib qt \n",
    "\n",
    "import cv2\n",
    "import numpy as np\n",
    "import matplotlib.image as mpimg\n",
    "import matplotlib.pyplot as plt\n",
    "import scipy.misc # For saving images as needed\n",
    "import glob  # For reading in a list of images from a folder\n",
    "import imageio\n",
    "imageio.plugins.ffmpeg.download()\n",
    "\n",
    "rock_img = mpimg.imread('../calibration_images/example_rock1.jpg')\n",
    "\n",
    "gold = np.uint8([[[140,110,0]]])\n",
    "\n",
    "hsv_gold = cv2.cvtColor(gold,cv2.COLOR_BGR2HSV)\n",
    "\n",
    "hue = hsv_gold[0][0][0]\n",
    "\n",
    "hsv = cv2.cvtColor(rock_img, cv2.COLOR_BGR2HSV)\n",
    "\n",
    "lower_gold = np.array([hue-10,100,100])\n",
    "upper_gold = np.array([hue+10,255,255])\n",
    "\n",
    "mask = cv2.inRange(hsv, lower_gold, upper_gold)\n",
    "\n",
    "res = cv2.bitwise_and(rock_img, rock_img, mask= mask)\n",
    "\n",
    "plt.imshow(res)\n",
    "\n",
    "# cv2.imshow(\"images\", np.hstack ([rock_img, res]))\n",
    "# cv2.waitKey(0)\n",
    "\n",
    "##################################################################################################################\n",
    "##################################################################################################################\n",
    "\n",
    "# # % matplotlib qt\n",
    "\n",
    "# example_rock = cv2.imread('../calibration_images/example_rock2.jpg', 1)\n",
    "# rock_img = cv2.cvtColor(rock_img1, cv2.COLOR_BGR2RGB)\n",
    "# # rock_img = mpimg.imread('../calibration_images/example_rock2.jpg')\n",
    "# # plt.imshow(rock_img)\n",
    "\n",
    "# boundaries = [([110, 100, 0], [255, 255, 90])]\n",
    "\n",
    "# for(lower, upper) in boundaries:\n",
    "#    lower = np.array(lower, dtype = \"uint8\")\n",
    "#    upper = np.array(upper, dtype = \"uint8\")\n",
    "\n",
    "# mask = cv2.inRange(rock_img, lower, upper)\n",
    "# output = cv2.bitwise_and(rock_img, rock_img, mask = mask)\n",
    "\n",
    "# plt.imshow(output)\n",
    "\n",
    "# # cv2.imshow('frame',rock_img)\n",
    "# # cv2.imshow('mask',mask)\n",
    "# # cv2.imshow('res',res)\n",
    "# # k = cv2.waitKey(5) & 0xFF\n",
    "# # if k == 27:\n",
    "# #     break\n",
    "\n",
    "# # cv2.destroyAllWindows()\n",
    "\n",
    "# plt.imshow(res)\n"
   ]
  },
  {
   "cell_type": "code",
   "execution_count": null,
   "metadata": {
    "collapsed": true
   },
   "outputs": [],
   "source": []
  }
 ],
 "metadata": {
  "kernelspec": {
   "display_name": "Python 3",
   "language": "python",
   "name": "python3"
  },
  "language_info": {
   "codemirror_mode": {
    "name": "ipython",
    "version": 3
   },
   "file_extension": ".py",
   "mimetype": "text/x-python",
   "name": "python",
   "nbconvert_exporter": "python",
   "pygments_lexer": "ipython3",
   "version": "3.5.2"
  },
  "widgets": {
   "state": {},
   "version": "1.1.2"
  }
 },
 "nbformat": 4,
 "nbformat_minor": 2
}
